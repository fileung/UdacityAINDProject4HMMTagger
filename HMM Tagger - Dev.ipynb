{
 "cells": [
  {
   "cell_type": "markdown",
   "metadata": {},
   "source": [
    "# Project: Part of Speech Tagging with Hidden Markov Models \n",
    "---\n",
    "### Introduction\n",
    "\n",
    "Part of speech tagging is the process of determining the syntactic category of a word from the words in its surrounding context. It is often used to help disambiguate natural language phrases because it can be done quickly with high accuracy. Tagging can be used for many NLP tasks like determining correct pronunciation during speech synthesis (for example, _dis_-count as a noun vs dis-_count_ as a verb), for information retrieval, and for word sense disambiguation.\n",
    "\n",
    "In this notebook, you'll use the [Pomegranate](http://pomegranate.readthedocs.io/) library to build a hidden Markov model for part of speech tagging using a \"universal\" tagset. Hidden Markov models have been able to achieve [>96% tag accuracy with larger tagsets on realistic text corpora](http://www.coli.uni-saarland.de/~thorsten/publications/Brants-ANLP00.pdf). Hidden Markov models have also been used for speech recognition and speech generation, machine translation, gene recognition for bioinformatics, and human gesture recognition for computer vision, and more. \n",
    "\n",
    "![](_post-hmm.png)\n",
    "\n",
    "The notebook already contains some code to get you started. You only need to add some new functionality in the areas indicated to complete the project; you will not need to modify the included code beyond what is requested. Sections that begin with **'IMPLEMENTATION'** in the header indicate that you must provide code in the block that follows. Instructions will be provided for each section, and the specifics of the implementation are marked in the code block with a 'TODO' statement. Please be sure to read the instructions carefully!"
   ]
  },
  {
   "cell_type": "markdown",
   "metadata": {},
   "source": [
    "<div class=\"alert alert-block alert-info\">\n",
    "**Note:** Once you have completed all of the code implementations, you need to finalize your work by exporting the iPython Notebook as an HTML document. Before exporting the notebook to html, all of the code cells need to have been run so that reviewers can see the final implementation and output. You must then **export the notebook** by running the last cell in the notebook, or by using the menu above and navigating to **File -> Download as -> HTML (.html)** Your submissions should include both the `html` and `ipynb` files.\n",
    "</div>"
   ]
  },
  {
   "cell_type": "markdown",
   "metadata": {},
   "source": [
    "<div class=\"alert alert-block alert-info\">\n",
    "**Note:** Code and Markdown cells can be executed using the `Shift + Enter` keyboard shortcut. Markdown cells can be edited by double-clicking the cell to enter edit mode.\n",
    "</div>"
   ]
  },
  {
   "cell_type": "markdown",
   "metadata": {},
   "source": [
    "### The Road Ahead\n",
    "You must complete Steps 1-3 below to pass the project. The section on Step 4 includes references & resources you can use to further explore HMM taggers.\n",
    "\n",
    "- [Step 1](#Step-1:-Read-and-preprocess-the-dataset): Review the provided interface to load and access the text corpus\n",
    "- [Step 2](#Step-2:-Build-a-Most-Frequent-Class-tagger): Build a Most Frequent Class tagger to use as a baseline\n",
    "- [Step 3](#Step-3:-Build-an-HMM-tagger): Build an HMM Part of Speech tagger and compare to the MFC baseline\n",
    "- [Step 4](#Step-4:-[Optional]-Improving-model-performance): (Optional) Improve the HMM tagger"
   ]
  },
  {
   "cell_type": "code",
   "execution_count": 1,
   "metadata": {},
   "outputs": [],
   "source": [
    "# Jupyter \"magic methods\" -- only need to be run once per kernel restart\n",
    "%load_ext autoreload\n",
    "%aimport helpers, tests\n",
    "%autoreload 1"
   ]
  },
  {
   "cell_type": "code",
   "execution_count": 2,
   "metadata": {},
   "outputs": [],
   "source": [
    "# import python modules -- this cell needs to be run again if you make changes to any of the files\n",
    "import matplotlib.pyplot as plt\n",
    "import numpy as np\n",
    "\n",
    "from IPython.core.display import HTML\n",
    "from itertools import chain\n",
    "from collections import Counter, defaultdict\n",
    "from helpers import show_model, Dataset\n",
    "from pomegranate import State, HiddenMarkovModel, DiscreteDistribution"
   ]
  },
  {
   "cell_type": "markdown",
   "metadata": {},
   "source": [
    "## Step 1: Read and preprocess the dataset\n",
    "---\n",
    "We'll start by reading in a text corpus and splitting it into a training and testing dataset. The data set is a copy of the [Brown corpus](https://en.wikipedia.org/wiki/Brown_Corpus) (originally from the [NLTK](https://www.nltk.org/) library) that has already been pre-processed to only include the [universal tagset](https://arxiv.org/pdf/1104.2086.pdf). You should expect to get slightly higher accuracy using this simplified tagset than the same model would achieve on a larger tagset like the full [Penn treebank tagset](https://www.ling.upenn.edu/courses/Fall_2003/ling001/penn_treebank_pos.html), but the process you'll follow would be the same.\n",
    "\n",
    "The `Dataset` class provided in helpers.py will read and parse the corpus. You can generate your own datasets compatible with the reader by writing them to the following format. The dataset is stored in plaintext as a collection of words and corresponding tags. Each sentence starts with a unique identifier on the first line, followed by one tab-separated word/tag pair on each following line. Sentences are separated by a single blank line.\n",
    "\n",
    "Example from the Brown corpus. \n",
    "```\n",
    "b100-38532\n",
    "Perhaps\tADV\n",
    "it\tPRON\n",
    "was\tVERB\n",
    "right\tADJ\n",
    ";\t.\n",
    ";\t.\n",
    "\n",
    "b100-35577\n",
    "...\n",
    "```"
   ]
  },
  {
   "cell_type": "code",
   "execution_count": 3,
   "metadata": {},
   "outputs": [
    {
     "name": "stdout",
     "output_type": "stream",
     "text": [
      "There are 57340 sentences in the corpus.\n",
      "There are 45872 sentences in the training set.\n",
      "There are 11468 sentences in the testing set.\n"
     ]
    }
   ],
   "source": [
    "data = Dataset(\"tags-universal.txt\", \"brown-universal.txt\", train_test_split=0.8)\n",
    "\n",
    "print(\"There are {} sentences in the corpus.\".format(len(data)))\n",
    "print(\"There are {} sentences in the training set.\".format(len(data.training_set)))\n",
    "print(\"There are {} sentences in the testing set.\".format(len(data.testing_set)))\n",
    "\n",
    "assert len(data) == len(data.training_set) + len(data.testing_set), \\\n",
    "       \"The number of sentences in the training set + testing set should sum to the number of sentences in the corpus\""
   ]
  },
  {
   "cell_type": "code",
   "execution_count": 4,
   "metadata": {},
   "outputs": [],
   "source": [
    "# test\n",
    "# my explore data, understanding the edata\n",
    "\n",
    "#type(data) #helpers.Dataset\n",
    "#data[0]\n",
    "\n",
    "# 'b100-36703':\n",
    "#             Sentence(\n",
    "#                 words=('As', 'Pip', 'agonizes', 'over', 'the', (long list) \n",
    "#                 tags=('ADP', 'NOUN', 'VERB', 'ADP', 'DET', (long list)\n",
    "#             )\n",
    "# 'b100-28124': \n",
    "#             Sentence(\n",
    "#                 words=\n",
    "\n"
   ]
  },
  {
   "cell_type": "markdown",
   "metadata": {},
   "source": [
    "### The Dataset Interface\n",
    "\n",
    "You can access (mostly) immutable references to the dataset through a simple interface provided through the `Dataset` class, which represents an iterable collection of sentences along with easy access to partitions of the data for training & testing. Review the reference below, then run and review the next few cells to make sure you understand the interface before moving on to the next step.\n",
    "\n",
    "```\n",
    "Dataset-only Attributes:\n",
    "    training_set - reference to a Subset object containing the samples for training\n",
    "    testing_set - reference to a Subset object containing the samples for testing\n",
    "\n",
    "Dataset & Subset Attributes:\n",
    "    sentences - a dictionary with an entry {sentence_key: Sentence()} for each sentence in the corpus\n",
    "    keys - an immutable ordered (not sorted) collection of the sentence_keys for the corpus\n",
    "    vocab - an immutable collection of the unique words in the corpus\n",
    "    tagset - an immutable collection of the unique tags in the corpus\n",
    "    X - returns an array of words grouped by sentences ((w11, w12, w13, ...), (w21, w22, w23, ...), ...)\n",
    "    Y - returns an array of tags grouped by sentences ((t11, t12, t13, ...), (t21, t22, t23, ...), ...)\n",
    "    N - returns the number of distinct samples (individual words or tags) in the dataset\n",
    "\n",
    "Methods:\n",
    "    stream() - returns an flat iterable over all (word, tag) pairs across all sentences in the corpus\n",
    "    __iter__() - returns an iterable over the data as (sentence_key, Sentence()) pairs\n",
    "    __len__() - returns the nubmer of sentences in the dataset\n",
    "```\n",
    "\n",
    "For example, consider a Subset, `subset`, of the sentences `{\"s0\": Sentence((\"See\", \"Spot\", \"run\"), (\"VERB\", \"NOUN\", \"VERB\")), \"s1\": Sentence((\"Spot\", \"ran\"), (\"NOUN\", \"VERB\"))}`. The subset will have these attributes:\n",
    "\n",
    "```\n",
    "subset.keys == {\"s1\", \"s0\"}  # unordered\n",
    "subset.vocab == {\"See\", \"run\", \"ran\", \"Spot\"}  # unordered\n",
    "subset.tagset == {\"VERB\", \"NOUN\"}  # unordered\n",
    "subset.X == ((\"Spot\", \"ran\"), (\"See\", \"Spot\", \"run\"))  # order matches .keys\n",
    "subset.Y == ((\"NOUN\", \"VERB\"), (\"VERB\", \"NOUN\", \"VERB\"))  # order matches .keys\n",
    "subset.N == 7  # there are a total of seven observations over all sentences\n",
    "len(subset) == 2  # because there are two sentences\n",
    "```\n",
    "\n",
    "<div class=\"alert alert-block alert-info\">\n",
    "**Note:** The `Dataset` class is _convenient_, but it is **not** efficient. It is not suitable for huge datasets because it stores multiple redundant copies of the same data.\n",
    "</div>"
   ]
  },
  {
   "cell_type": "markdown",
   "metadata": {},
   "source": [
    "#### Sentences\n",
    "\n",
    "`Dataset.sentences` is a dictionary of all sentences in the training corpus, each keyed to a unique sentence identifier. Each `Sentence` is itself an object with two attributes: a tuple of the words in the sentence named `words` and a tuple of the tag corresponding to each word named `tags`."
   ]
  },
  {
   "cell_type": "code",
   "execution_count": 5,
   "metadata": {},
   "outputs": [
    {
     "name": "stdout",
     "output_type": "stream",
     "text": [
      "Sentence: b100-38532\n",
      "words:\n",
      "\t('Perhaps', 'it', 'was', 'right', ';', ';')\n",
      "tags:\n",
      "\t('ADV', 'PRON', 'VERB', 'ADJ', '.', '.')\n"
     ]
    }
   ],
   "source": [
    "key = 'b100-38532'\n",
    "print(\"Sentence: {}\".format(key))\n",
    "print(\"words:\\n\\t{!s}\".format(data.sentences[key].words))\n",
    "print(\"tags:\\n\\t{!s}\".format(data.sentences[key].tags))"
   ]
  },
  {
   "cell_type": "markdown",
   "metadata": {},
   "source": [
    "<div class=\"alert alert-block alert-info\">\n",
    "**Note:** The underlying iterable sequence is **unordered** over the sentences in the corpus; it is not guaranteed to return the sentences in a consistent order between calls. Use `Dataset.stream()`, `Dataset.keys`, `Dataset.X`, or `Dataset.Y` attributes if you need ordered access to the data.\n",
    "</div>\n",
    "\n",
    "#### Counting Unique Elements\n",
    "\n",
    "You can access the list of unique words (the dataset vocabulary) via `Dataset.vocab` and the unique list of tags via `Dataset.tagset`."
   ]
  },
  {
   "cell_type": "code",
   "execution_count": 6,
   "metadata": {},
   "outputs": [
    {
     "name": "stdout",
     "output_type": "stream",
     "text": [
      "There are a total of 1161192 samples of 56057 unique words in the corpus.\n",
      "There are 928458 samples of 50536 unique words in the training set.\n",
      "There are 232734 samples of 25112 unique words in the testing set.\n",
      "There are 5521 words in the test set that are missing in the training set.\n"
     ]
    }
   ],
   "source": [
    "print(\"There are a total of {} samples of {} unique words in the corpus.\"\n",
    "      .format(data.N, len(data.vocab)))\n",
    "print(\"There are {} samples of {} unique words in the training set.\"\n",
    "      .format(data.training_set.N, len(data.training_set.vocab)))\n",
    "print(\"There are {} samples of {} unique words in the testing set.\"\n",
    "      .format(data.testing_set.N, len(data.testing_set.vocab)))\n",
    "print(\"There are {} words in the test set that are missing in the training set.\"\n",
    "      .format(len(data.testing_set.vocab - data.training_set.vocab)))\n",
    "\n",
    "assert data.N == data.training_set.N + data.testing_set.N, \\\n",
    "       \"The number of training + test samples should sum to the total number of samples\""
   ]
  },
  {
   "cell_type": "markdown",
   "metadata": {},
   "source": [
    "#### Accessing word and tag Sequences\n",
    "The `Dataset.X` and `Dataset.Y` attributes provide access to ordered collections of matching word and tag sequences for each sentence in the dataset."
   ]
  },
  {
   "cell_type": "code",
   "execution_count": 7,
   "metadata": {},
   "outputs": [
    {
     "name": "stdout",
     "output_type": "stream",
     "text": [
      "Sentence 1: ('Mr.', 'Podger', 'had', 'thanked', 'him', 'gravely', ',', 'and', 'now', 'he', 'made', 'use', 'of', 'the', 'advice', '.')\n",
      "\n",
      "Labels 1: ('NOUN', 'NOUN', 'VERB', 'VERB', 'PRON', 'ADV', '.', 'CONJ', 'ADV', 'PRON', 'VERB', 'NOUN', 'ADP', 'DET', 'NOUN', '.')\n",
      "\n",
      "Sentence 2: ('But', 'there', 'seemed', 'to', 'be', 'some', 'difference', 'of', 'opinion', 'as', 'to', 'how', 'far', 'the', 'board', 'should', 'go', ',', 'and', 'whose', 'advice', 'it', 'should', 'follow', '.')\n",
      "\n",
      "Labels 2: ('CONJ', 'PRT', 'VERB', 'PRT', 'VERB', 'DET', 'NOUN', 'ADP', 'NOUN', 'ADP', 'ADP', 'ADV', 'ADV', 'DET', 'NOUN', 'VERB', 'VERB', '.', 'CONJ', 'DET', 'NOUN', 'PRON', 'VERB', 'VERB', '.')\n",
      "\n"
     ]
    }
   ],
   "source": [
    "# accessing words with Dataset.X and tags with Dataset.Y \n",
    "for i in range(2):    \n",
    "    print(\"Sentence {}:\".format(i + 1), data.X[i])\n",
    "    print()\n",
    "    print(\"Labels {}:\".format(i + 1), data.Y[i])\n",
    "    print()"
   ]
  },
  {
   "cell_type": "markdown",
   "metadata": {},
   "source": [
    "#### Accessing (word, tag) Samples\n",
    "The `Dataset.stream()` method returns an iterator that chains together every pair of (word, tag) entries across all sentences in the entire corpus."
   ]
  },
  {
   "cell_type": "code",
   "execution_count": 8,
   "metadata": {},
   "outputs": [
    {
     "name": "stdout",
     "output_type": "stream",
     "text": [
      "\n",
      "Stream (word, tag) pairs:\n",
      "\n",
      "\t ('Mr.', 'NOUN')\n",
      "\t ('Podger', 'NOUN')\n",
      "\t ('had', 'VERB')\n",
      "\t ('thanked', 'VERB')\n",
      "\t ('him', 'PRON')\n",
      "\t ('gravely', 'ADV')\n",
      "\t (',', '.')\n"
     ]
    }
   ],
   "source": [
    "# use Dataset.stream() (word, tag) samples for the entire corpus\n",
    "print(\"\\nStream (word, tag) pairs:\\n\")\n",
    "for i, pair in enumerate(data.stream()):\n",
    "    print(\"\\t\", pair)\n",
    "    if i > 5: break"
   ]
  },
  {
   "cell_type": "markdown",
   "metadata": {},
   "source": [
    "\n",
    "For both our baseline tagger and the HMM model we'll build, we need to estimate the frequency of tags & words from the frequency counts of observations in the training corpus. In the next several cells you will complete functions to compute the counts of several sets of counts. "
   ]
  },
  {
   "cell_type": "markdown",
   "metadata": {},
   "source": [
    "## Step 2: Build a Most Frequent Class tagger\n",
    "---\n",
    "\n",
    "Perhaps the simplest tagger (and a good baseline for tagger performance) is to simply choose the tag most frequently assigned to each word. This \"most frequent class\" tagger inspects each observed word in the sequence and assigns it the label that was most often assigned to that word in the corpus."
   ]
  },
  {
   "cell_type": "markdown",
   "metadata": {},
   "source": [
    "### IMPLEMENTATION: Pair Counts\n",
    "\n",
    "Complete the function below that computes the joint frequency counts for two input sequences."
   ]
  },
  {
   "cell_type": "code",
   "execution_count": 9,
   "metadata": {},
   "outputs": [
    {
     "name": "stdout",
     "output_type": "stream",
     "text": [
      "aaa['a'] was None\n",
      "1\n"
     ]
    }
   ],
   "source": [
    "# test 2d dict - to delete\n",
    "aaa = {}\n",
    "if 'a' not in aaa:\n",
    "    print (\"aaa['a'] was None\")\n",
    "    aaa['a'] = {}\n",
    "aaa['a']['b'] = 1\n",
    "print (aaa['a']['b'])"
   ]
  },
  {
   "cell_type": "code",
   "execution_count": 10,
   "metadata": {},
   "outputs": [
    {
     "data": {
      "text/plain": [
       "57340"
      ]
     },
     "execution_count": 10,
     "metadata": {},
     "output_type": "execute_result"
    }
   ],
   "source": [
    "# check amount of data the code need to handle - to delete\n",
    "# len(data.Y)\n",
    "len(data.X)"
   ]
  },
  {
   "cell_type": "code",
   "execution_count": 171,
   "metadata": {},
   "outputs": [
    {
     "name": "stdout",
     "output_type": "stream",
     "text": [
      "12\n",
      "time\n"
     ]
    }
   ],
   "source": [
    "# dont run\n",
    "return\n",
    "\n",
    "# Data explore, Code try and testing\n",
    "# to understand how it all works, before implement project requirememnt - def pair_counts()\n",
    "# basically all the test code of pair_counts()\n",
    "def my_data_analysis(sequences_A, sequences_B):\n",
    " \n",
    "    # view data\n",
    "    # print ('sequences_A 2d=', sequences_A)\n",
    "    # print ('sequences_B 2d=', sequences_B)\n",
    "    #print (type(sequences_B)) # <class 'tuple'>\n",
    "    #print (type(sequences_B[0])) # <class 'tuple'>\n",
    "    \n",
    "    # flatten tuples in tuple to one dimension\n",
    "    words = [w for s in sequences_B for w in s]\n",
    "    tags = [t for s in sequences_A for t in s]\n",
    "    # print ('words 1d=', words)\n",
    "    # print ('tags 1d=', tags)\n",
    "    utags = set(tags) \n",
    "    print ('number of all tags =',len(tags))\n",
    "    print ('number of unique tags =',len(utags))\n",
    "    \n",
    "    # we need words, not duplicates\n",
    "    uwords = set(words)\n",
    "    print ('number of all words =', len(words))\n",
    "    print ('number of unique words =', len(uwords))\n",
    "    \n",
    "    # try get one [tag][word] working\n",
    "    sentence = sequences_B[0]\n",
    "    word = sentence[7] # word=and\n",
    "    print ('test word used:', word)\n",
    "\n",
    "    # find all index of the same word\n",
    "    word_indices = [i for i, w in enumerate(words) if w == word] \n",
    "    # print (len(word_indices)) # 1\n",
    "    # print (type(word_indices)) # <class 'list'>\n",
    "    # print ('word_indices=',word_indices)\n",
    "    \n",
    "    tag_of_word = tags[7]\n",
    "    tag_word_indices = [i for i in word_indices if tags[i] == tag_of_word]\n",
    "    # print ('tag_word_indices=',tag_word_indices)\n",
    "    \n",
    "    # check result is correct\n",
    "    # for i in tag_word_indices:\n",
    "    #     print ('word =', words[i], ', tag =', tags[i])\n",
    "    # check 1d list, with all words\n",
    "    # for i, w in enumerate(words):\n",
    "    #     if w == word:\n",
    "    #         print ('word =', words[i], ', tag =', tags[i])\n",
    "    # print count length instead of return the list\n",
    "    print ('[{0}][{1}]={2}'.format(tag_of_word, word, len(tag_word_indices)))\n",
    "    \n",
    "    ########################################\n",
    "    # putting all test code above together\n",
    "    ########################################\n",
    "    # get all count of [tag][word] - project requirement\n",
    "    # get list of unique words\n",
    "    # get list of unique tags\n",
    "    # init a new dictionary, to hold all [tag][word] with count\n",
    "    # loop all words\n",
    "    #   for each word, get all possible tags list\n",
    "    #     for each possbile tag of current word\n",
    "    #       count number of time [tag][word] occurs\n",
    "    #       add this key value(count) to dictionary\n",
    "    #       repeat on next word\n",
    "    \n",
    "    print ('#####################################')\n",
    "    # flatten tuples in tuple to one dimension\n",
    "    words = [w for s in sequences_B for w in s]\n",
    "    tags = [t for s in sequences_A for t in s]\n",
    "    \n",
    "    # unique tags and unique words\n",
    "    utags = set(tags) \n",
    "    uwords = set(words)\n",
    "\n",
    "    tag_word_count = dict()\n",
    "    #tag_word_count[tag][word] = count\n",
    "    \n",
    "    # loop all unique words\n",
    "    for i, uw in enumerate(uwords):\n",
    "        \n",
    "#         print ('next unique word=', uw)\n",
    "        # get all indices of the same unique word\n",
    "        word_indices = [j for j, w in enumerate(words) if w == uw] \n",
    "#         print ('word_indices=', word_indices)\n",
    "        \n",
    "        # get possible all tags (duplicates exist) of each word, using each word occurances index\n",
    "        for j in word_indices:\n",
    "            all_tags_of_current_word = [t for k, t in enumerate(tags) if k == j] \n",
    "        \n",
    "#         print ('all_tags_of_current_word=', all_tags_of_current_word)\n",
    "        # for each tag, combine with word, count all existence\n",
    "        # loop by each unique tag, and count number of occurance\n",
    "        utags = set(all_tags_of_current_word)   \n",
    "#         print ('utags of this word=', utags)\n",
    "        for ut in utags:\n",
    "            utag_count_of_current_word = all_tags_of_current_word.count(ut)\n",
    "            # create new dict entry for each new tag\n",
    "            if ut not in tag_word_count:\n",
    "                tag_word_count[ut] = {}\n",
    "            tag_word_count[ut][uw] = utag_count_of_current_word\n",
    "    \n",
    "    return tag_word_count\n",
    "\n",
    "# new version to make code faster\n",
    "def my_data_analysis_2(sequences_A, sequences_B):\n",
    " \n",
    "    # flatten tuples in tuple to one dimension\n",
    "    words = [w for s in sequences_B for w in s]\n",
    "    tags = [t for s in sequences_A for t in s]\n",
    "    \n",
    "    # join the two lists side by side - [tag][word]\n",
    "    # list() wrap zip() to access array like methods, as zip() object function is limited\n",
    "    pairs = list(zip(tags, words))\n",
    "#     print (len(pairs))\n",
    "    \n",
    "    # unique pairs, for looping, as we dont need to loop all pairs\n",
    "    upairs = set(pairs)\n",
    "#     print (len(upairs))\n",
    "    \n",
    "    # create 2d dictionary [tag][word]=count\n",
    "    tag_word_count = dict()\n",
    "    for up in upairs:\n",
    "        index1 = up[0]\n",
    "        index2 = up[1]\n",
    "#         print (index1)\n",
    "#         print (index2)\n",
    "        # create index is needed for 2nd indices\n",
    "        if index1 not in tag_word_count:\n",
    "            tag_word_count[index1] = {}\n",
    "        tag_word_count[index1][index2] = pairs.count(up)\n",
    "    \n",
    "    return tag_word_count\n",
    "        \n",
    "# emission_counts = my_data_analysis(data.training_set.Y[0:100], data.training_set.X[0:100])\n",
    "# emission_counts = my_data_analysis(data.training_set.Y[0:5000], data.training_set.X[0:5000])\n",
    "subset_tags = data.training_set.Y[:1000]\n",
    "subset_words = data.training_set.X[:1000]\n",
    "emission_counts = my_data_analysis_2(subset_tags, subset_words)\n",
    "\n",
    "print (len(emission_counts))\n",
    "print (max(emission_counts[\"NOUN\"], key=emission_counts[\"NOUN\"].get))\n",
    "# 12\n",
    "# time\n"
   ]
  },
  {
   "cell_type": "code",
   "execution_count": 90,
   "metadata": {},
   "outputs": [
    {
     "ename": "AssertionError",
     "evalue": "Hmmm...'time' is expected to be the most common NOUN.",
     "output_type": "error",
     "traceback": [
      "\u001b[0;31m---------------------------------------------------------------------------\u001b[0m",
      "\u001b[0;31mAssertionError\u001b[0m                            Traceback (most recent call last)",
      "\u001b[0;32m<ipython-input-90-0fff54cabd6f>\u001b[0m in \u001b[0;36m<module>\u001b[0;34m()\u001b[0m\n\u001b[1;32m     68\u001b[0m \u001b[0;34m\u001b[0m\u001b[0m\n\u001b[1;32m     69\u001b[0m \u001b[0;32massert\u001b[0m \u001b[0mlen\u001b[0m\u001b[0;34m(\u001b[0m\u001b[0memission_counts\u001b[0m\u001b[0;34m)\u001b[0m \u001b[0;34m==\u001b[0m \u001b[0;36m12\u001b[0m\u001b[0;34m,\u001b[0m        \u001b[0;34m\"Uh oh. There should be 12 tags in your dictionary.\"\u001b[0m\u001b[0;34m\u001b[0m\u001b[0m\n\u001b[0;32m---> 70\u001b[0;31m \u001b[0;32massert\u001b[0m \u001b[0mmax\u001b[0m\u001b[0;34m(\u001b[0m\u001b[0memission_counts\u001b[0m\u001b[0;34m[\u001b[0m\u001b[0;34m\"NOUN\"\u001b[0m\u001b[0;34m]\u001b[0m\u001b[0;34m,\u001b[0m \u001b[0mkey\u001b[0m\u001b[0;34m=\u001b[0m\u001b[0memission_counts\u001b[0m\u001b[0;34m[\u001b[0m\u001b[0;34m\"NOUN\"\u001b[0m\u001b[0;34m]\u001b[0m\u001b[0;34m.\u001b[0m\u001b[0mget\u001b[0m\u001b[0;34m)\u001b[0m \u001b[0;34m==\u001b[0m \u001b[0;34m'time'\u001b[0m\u001b[0;34m,\u001b[0m        \u001b[0;34m\"Hmmm...'time' is expected to be the most common NOUN.\"\u001b[0m\u001b[0;34m\u001b[0m\u001b[0m\n\u001b[0m\u001b[1;32m     71\u001b[0m \u001b[0mHTML\u001b[0m\u001b[0;34m(\u001b[0m\u001b[0;34m'<div class=\"alert alert-block alert-success\">Your emission counts look good!</div>'\u001b[0m\u001b[0;34m)\u001b[0m\u001b[0;34m\u001b[0m\u001b[0m\n",
      "\u001b[0;31mAssertionError\u001b[0m: Hmmm...'time' is expected to be the most common NOUN."
     ]
    }
   ],
   "source": [
    "# dont run\n",
    "return\n",
    "\n",
    "# this version takes too long, rewrite needed\n",
    "# the result is only partially correct anyway\n",
    "def pair_counts_v1(sequences_A, sequences_B):\n",
    "    \"\"\"Return a dictionary keyed to each unique value in the first sequence list\n",
    "    that counts the number of occurrences of the corresponding value from the\n",
    "    second sequences list.\n",
    "    \n",
    "    For example, if sequences_A is tags and sequences_B is the corresponding\n",
    "    words, then if 1244 sequences contain the word \"time\" tagged as a NOUN, then\n",
    "    you should return a dictionary such that pair_counts[NOUN][time] == 1244\n",
    "    \"\"\"\n",
    "    # TODO: Finish this function!\n",
    " \n",
    "    ########################################\n",
    "    # get all count of [tag][word] - project requirement\n",
    "    # get list of unique words\n",
    "    # get list of unique tags\n",
    "    # init a new dictionary, to hold all [tag][word] with count\n",
    "    # loop all words\n",
    "    #   for each word, get all possible tags list\n",
    "    #     for each possbile tag of current word\n",
    "    #       count number of time [tag][word] occurs\n",
    "    #       add this key value(count) to dictionary\n",
    "    #       repeat on next word\n",
    "    ########################################\n",
    "    \n",
    "    # flatten tuples in tuple to one dimension\n",
    "    words = [w for s in sequences_B for w in s]\n",
    "    tags = [t for s in sequences_A for t in s]\n",
    "    \n",
    "    # unique tags and unique words\n",
    "    utags = set(tags) \n",
    "    uwords = set(words)\n",
    "\n",
    "    tag_word_count = dict()\n",
    "    #tag_word_count[tag][word] = count\n",
    "    \n",
    "    # loop all unique words\n",
    "    for i, uw in enumerate(uwords):\n",
    "        \n",
    "#         print ('next unique word=', uw)\n",
    "        # get all indices of the same unique word\n",
    "        word_indices = [j for j, w in enumerate(words) if w == uw] \n",
    "#         print ('word_indices=', word_indices)\n",
    "        \n",
    "        # get possible all tags (duplicates exist) of each word, using each word occurances index\n",
    "        for j in word_indices:\n",
    "            all_tags_of_current_word = [t for k, t in enumerate(tags) if k == j] \n",
    "        \n",
    "#         print ('all_tags_of_current_word=', all_tags_of_current_word)\n",
    "        # for each tag, combine with word, count all existence\n",
    "        # loop by each unique tag, and count number of occurance\n",
    "        utags = set(all_tags_of_current_word)   \n",
    "#         print ('utags of this word=', utags)\n",
    "        for ut in utags:\n",
    "            utag_count_of_current_word = all_tags_of_current_word.count(ut)\n",
    "            # create new dict entry for each new tag\n",
    "            if ut not in tag_word_count:\n",
    "                tag_word_count[ut] = {}\n",
    "            tag_word_count[ut][uw] = utag_count_of_current_word\n",
    "    \n",
    "    return tag_word_count\n",
    "        \n",
    "    \n",
    "#     raise NotImplementedError\n",
    "\n",
    "\n",
    "# Calculate C(t_i, w_i)\n",
    "subset_tags = data.training_set.Y[:1000]\n",
    "subset_words = data.training_set.X[:1000]\n",
    "emission_counts = pair_counts_v1(subset_tags, subset_words)\n",
    "\n",
    "assert len(emission_counts) == 12, \\\n",
    "       \"Uh oh. There should be 12 tags in your dictionary.\"\n",
    "assert max(emission_counts[\"NOUN\"], key=emission_counts[\"NOUN\"].get) == 'time', \\\n",
    "       \"Hmmm...'time' is expected to be the most common NOUN.\"\n",
    "HTML('<div class=\"alert alert-block alert-success\">Your emission counts look good!</div>')"
   ]
  },
  {
   "cell_type": "code",
   "execution_count": 11,
   "metadata": {},
   "outputs": [
    {
     "data": {
      "text/html": [
       "<div class=\"alert alert-block alert-success\">Your emission counts look good!</div>"
      ],
      "text/plain": [
       "<IPython.core.display.HTML object>"
      ]
     },
     "execution_count": 11,
     "metadata": {},
     "output_type": "execute_result"
    }
   ],
   "source": [
    "def pair_counts(sequences_A, sequences_B):\n",
    "    \"\"\"Return a dictionary keyed to each unique value in the first sequence list\n",
    "    that counts the number of occurrences of the corresponding value from the\n",
    "    second sequences list.\n",
    "    \n",
    "    For example, if sequences_A is tags and sequences_B is the corresponding\n",
    "    words, then if 1244 sequences contain the word \"time\" tagged as a NOUN, then\n",
    "    you should return a dictionary such that pair_counts[NOUN][time] == 1244\n",
    "    \"\"\"\n",
    "    # TODO: Finish this function!\n",
    " \n",
    "    # flatten tuples in tuple to one dimension list\n",
    "    words = [w for s in sequences_B for w in s]\n",
    "    tags = [t for s in sequences_A for t in s]\n",
    "    \n",
    "    # zip() - join the two lists side by side - [tag][word]\n",
    "    # list() wrap zip() to access array like methods, as zip() object functions is limited\n",
    "    pairs = list(zip(tags, words))\n",
    "    \n",
    "    # unique pairs, for dictionary unique keys\n",
    "    upairs = set(pairs)\n",
    "    \n",
    "    # create 2d dictionary [tag][word]=count\n",
    "    tag_word_count = dict()\n",
    "    \n",
    "    # loop to count and record occurance of each unique pairs of [tag][word]\n",
    "    for up in upairs:\n",
    "        tag = up[0] #index1\n",
    "        word = up[1] #index2\n",
    "        \n",
    "#     for i, pair in enumerate(data.stream()):\n",
    "#         tag = pair[1] #index1\n",
    "#         word = pair[0] #index2\n",
    "\n",
    "        # create new dict per index is needed, or exception will throw\n",
    "        if tag not in tag_word_count:\n",
    "            tag_word_count[tag] = {}\n",
    "\n",
    "        # add count to dictionary\n",
    "        tag_word_count[tag][word] = pairs.count(up)\n",
    "    \n",
    "    return tag_word_count\n",
    "    \n",
    "# Calculate C(t_i, w_i)\n",
    "subset_tags = data.training_set.Y #[:1000]\n",
    "subset_words = data.training_set.X #[:1000]\n",
    "emission_counts = pair_counts(subset_tags, subset_words)\n",
    "\n",
    "assert len(emission_counts) == 12, \\\n",
    "       \"Uh oh. There should be 12 tags in your dictionary.\"\n",
    "assert max(emission_counts[\"NOUN\"], key=emission_counts[\"NOUN\"].get) == 'time', \\\n",
    "       \"Hmmm...'time' is expected to be the most common NOUN.\"\n",
    "HTML('<div class=\"alert alert-block alert-success\">Your emission counts look good!</div>')"
   ]
  },
  {
   "cell_type": "code",
   "execution_count": null,
   "metadata": {},
   "outputs": [],
   "source": [
    "# run time is about 1-2 hours!"
   ]
  },
  {
   "cell_type": "markdown",
   "metadata": {},
   "source": [
    "### IMPLEMENTATION: Most Frequent Class Tagger\n",
    "\n",
    "Use the `pair_counts()` function and the training dataset to find the most frequent class label for each word in the training data, and populate the `mfc_table` below. The table keys should be words, and the values should be the appropriate tag string.\n",
    "\n",
    "The `MFCTagger` class is provided to mock the interface of Pomegranite HMM models so that they can be used interchangeably."
   ]
  },
  {
   "cell_type": "code",
   "execution_count": null,
   "metadata": {},
   "outputs": [],
   "source": [
    "# test code\n",
    "\n",
    "# init a tuple of word with its most frequent tag\n",
    "# WordTag = namedtuple('WordTag', 'word tag')\n",
    "# aaa = WordTag(word='simspon', tag='NOUN')\n",
    "    \n",
    "# print (word_counts['the'])\n",
    "       \n",
    "# filter by each word\n",
    "# aaa = [ v for k, v in word_counts.items() ] # if v == 'the' ] \n",
    "# print (aaa)\n",
    "\n",
    "# try group by dict 2nd index word\n",
    "# from itertools import groupby\n",
    "# from operator import itemgetter\n",
    "\n",
    "# grouper = itemgetter('word')"
   ]
  },
  {
   "cell_type": "code",
   "execution_count": 90,
   "metadata": {},
   "outputs": [
    {
     "data": {
      "text/html": [
       "<div class=\"alert alert-block alert-success\">Your MFC tagger has all the correct words!</div>"
      ],
      "text/plain": [
       "<IPython.core.display.HTML object>"
      ]
     },
     "execution_count": 90,
     "metadata": {},
     "output_type": "execute_result"
    }
   ],
   "source": [
    "# Create a lookup table mfc_table where mfc_table[word] contains the tag label most frequently assigned to that word\n",
    "from collections import namedtuple\n",
    "\n",
    "FakeState = namedtuple(\"FakeState\", \"name\")\n",
    "\n",
    "class MFCTagger:\n",
    "    # NOTE: You should not need to modify this class or any of its methods\n",
    "    missing = FakeState(name=\"<MISSING>\")\n",
    "    \n",
    "    def __init__(self, table):\n",
    "        self.table = defaultdict(lambda: MFCTagger.missing)\n",
    "        self.table.update({word: FakeState(name=tag) for word, tag in table.items()})\n",
    "        \n",
    "    def viterbi(self, seq):\n",
    "        \"\"\"This method simplifies predictions by matching the Pomegranate viterbi() interface\"\"\"\n",
    "        return 0., list(enumerate([\"<start>\"] + [self.table[w] for w in seq] + [\"<end>\"]))\n",
    "\n",
    "\n",
    "# TODO: calculate the frequency of each tag being assigned to each word (hint: similar, but not\n",
    "# the same as the emission probabilities) and use it to fill the mfc_table\n",
    "\n",
    "# subset_tags = data.training_set.Y #[:1000]\n",
    "# subset_words = data.training_set.X #[:1000]\n",
    "# word_counts = pair_counts(subset_tags, subset_words)\n",
    "\n",
    "# reuse result from code above\n",
    "word_counts = emission_counts\n",
    "\n",
    "def word_most_freq_tag():\n",
    "\n",
    "    word_mtag_name = dict() # [word]=most freq tag\n",
    "    word_mtag_count = dict() # [word][most freq tag]=count, act as a temp placeholder for the most freq tag value \n",
    "\n",
    "    for tag, words in word_counts.items():\n",
    "        for word, value in words.items():\n",
    "    #         print ('{0},{1}={2}'.format(tag, word, value))\n",
    "            if word not in word_mtag_name:\n",
    "                word_mtag_count[word] = value\n",
    "                word_mtag_name[word] = tag\n",
    "            elif word_mtag_count[word] < value:\n",
    "                word_mtag_count[word] = value\n",
    "                word_mtag_name[word] = tag\n",
    "#                 print ('new found most freq tag is {0} for word {1} with count {2}'.format(tag, word, value))\n",
    "    \n",
    "    return word_mtag_name\n",
    "\n",
    "# def word_most_freq_tag_2():\n",
    "\n",
    "#     word_maxtag = dict() # return dict of: [word]=tag(most freq)\n",
    "\n",
    "#     # using\n",
    "#     # word_counts = [tag][word] = count\n",
    "        \n",
    "#     for uword in data.vocab:\n",
    "        \n",
    "#         list(word_counts)[:][uword]\n",
    "        \n",
    "#         for word, value in words.items():\n",
    "\n",
    "    \n",
    "#     return word_mtag_name\n",
    "    \n",
    "mfc_table = word_most_freq_tag()\n",
    "\n",
    "# DO NOT MODIFY BELOW THIS LINE\n",
    "mfc_model = MFCTagger(mfc_table) # Create a Most Frequent Class tagger instance\n",
    "\n",
    "assert len(mfc_table) == len(data.training_set.vocab), \"\"\n",
    "assert all(k in data.training_set.vocab for k in mfc_table.keys()), \"\"\n",
    "assert sum(int(k not in mfc_table) for k in data.testing_set.vocab) == 5521, \"\"\n",
    "HTML('<div class=\"alert alert-block alert-success\">Your MFC tagger has all the correct words!</div>')"
   ]
  },
  {
   "cell_type": "code",
   "execution_count": 91,
   "metadata": {},
   "outputs": [],
   "source": [
    "# code run above have correct result and passed assert test, but pair_counts() is slow, rewrite if time allow"
   ]
  },
  {
   "cell_type": "code",
   "execution_count": 92,
   "metadata": {},
   "outputs": [],
   "source": [
    "# check result\n",
    "# print (mfc_table)"
   ]
  },
  {
   "cell_type": "code",
   "execution_count": 93,
   "metadata": {},
   "outputs": [
    {
     "name": "stdout",
     "output_type": "stream",
     "text": [
      "{'b': 101, 'c': 100, 'a': 99}\n",
      "c\n",
      "101\n",
      "b\n"
     ]
    }
   ],
   "source": [
    "# test - return max value index in dict\n",
    "numbers = {'a':99, 'b':101, 'c': 100}\n",
    "print (numbers)\n",
    "print (max(numbers)) # return c index, as c is 'bigger' than both b and a\n",
    "print (max(numbers.values())) # return 101 value\n",
    "\n",
    "# try code but dont work\n",
    "# print (numbers.index(max(numbers.values())))\n",
    "# iii = [i for (i, n) in numbers.iteritems() if n == 100]\n",
    "\n",
    "index_of_max_value = max(numbers, key=numbers.get)\n",
    "print (index_of_max_value)"
   ]
  },
  {
   "cell_type": "code",
   "execution_count": 94,
   "metadata": {},
   "outputs": [],
   "source": [
    "# for uword in data.vocab:\n",
    "# #     print (uword)\n",
    "#     word_tags = {k: v for k, v in word_counts.items() if v[]}\n",
    "#     print (word_tags)\n",
    "\n",
    "# for k, v in word_counts.items():\n",
    "#     print (v)\n",
    "\n",
    "    "
   ]
  },
  {
   "cell_type": "markdown",
   "metadata": {},
   "source": [
    "### Making Predictions with a Model\n",
    "The helper functions provided below interface with Pomegranate network models & the mocked MFCTagger to take advantage of the [missing value](http://pomegranate.readthedocs.io/en/latest/nan.html) functionality in Pomegranate through a simple sequence decoding function. Run these functions, then run the next cell to see some of the predictions made by the MFC tagger."
   ]
  },
  {
   "cell_type": "code",
   "execution_count": 95,
   "metadata": {},
   "outputs": [],
   "source": [
    "def replace_unknown(sequence):\n",
    "    \"\"\"Return a copy of the input sequence where each unknown word is replaced\n",
    "    by the literal string value 'nan'. Pomegranate will ignore these values\n",
    "    during computation.\n",
    "    \"\"\"\n",
    "    return [w if w in data.training_set.vocab else 'nan' for w in sequence]\n",
    "\n",
    "def simplify_decoding(X, model):\n",
    "    \"\"\"X should be a 1-D sequence of observations for the model to predict\"\"\"\n",
    "    _, state_path = model.viterbi(replace_unknown(X))\n",
    "    return [state[1].name for state in state_path[1:-1]]  # do not show the start/end state predictions"
   ]
  },
  {
   "cell_type": "markdown",
   "metadata": {},
   "source": [
    "### Example Decoding Sequences with MFC Tagger"
   ]
  },
  {
   "cell_type": "code",
   "execution_count": 96,
   "metadata": {
    "scrolled": true
   },
   "outputs": [
    {
     "name": "stdout",
     "output_type": "stream",
     "text": [
      "Sentence Key: b100-28144\n",
      "\n",
      "\n",
      "Actual words:\n",
      "--------------\n",
      "('and', 'August', '15', ',', 'November', '15', ',', 'February', '17', ',', 'and', 'May', '15', ',', '(', 'Cranston', ')', '.')\n",
      "\n",
      "Predicted labels:\n",
      "-----------------\n",
      "['CONJ', 'NOUN', 'NUM', '.', 'NOUN', 'NUM', '.', 'NOUN', 'NUM', '.', 'CONJ', 'NOUN', 'NUM', '.', '.', 'NOUN', '.', '.']\n",
      "\n",
      "Actual labels:\n",
      "--------------\n",
      "('CONJ', 'NOUN', 'NUM', '.', 'NOUN', 'NUM', '.', 'NOUN', 'NUM', '.', 'CONJ', 'NOUN', 'NUM', '.', '.', 'NOUN', '.', '.')\n",
      "\n",
      "\n",
      "Sentence Key: b100-23146\n",
      "\n",
      "\n",
      "Actual words:\n",
      "--------------\n",
      "('She', 'had', 'the', 'opportunity', 'that', 'few', 'clever', 'women', 'can', 'resist', ',', 'of', 'showing', 'her', 'superiority', 'in', 'argument', 'over', 'a', 'man', '.')\n",
      "\n",
      "Predicted labels:\n",
      "-----------------\n",
      "['PRON', 'VERB', 'DET', 'NOUN', 'ADP', 'ADJ', 'ADJ', 'NOUN', 'VERB', 'VERB', '.', 'ADP', 'VERB', 'DET', 'NOUN', 'ADP', 'NOUN', 'ADP', 'DET', 'NOUN', '.']\n",
      "\n",
      "Actual labels:\n",
      "--------------\n",
      "('PRON', 'VERB', 'DET', 'NOUN', 'ADP', 'ADJ', 'ADJ', 'NOUN', 'VERB', 'VERB', '.', 'ADP', 'VERB', 'DET', 'NOUN', 'ADP', 'NOUN', 'ADP', 'DET', 'NOUN', '.')\n",
      "\n",
      "\n",
      "Sentence Key: b100-35462\n",
      "\n",
      "\n",
      "Actual words:\n",
      "--------------\n",
      "('The', 'same', 'conclusions', 'can', 'be', 'drawn', 'from', 'the', 'other', 'physical', 'evidence', 'of', 'the', 'Dark', 'ages', ',', 'from', 'linguistic', 'distribution', ',', 'and', 'from', 'the', 'survivals', 'of', 'early', 'social', ',', 'political', ',', 'and', 'religious', 'patterns', 'into', 'later', 'ages', '.')\n",
      "\n",
      "Predicted labels:\n",
      "-----------------\n",
      "['DET', 'ADJ', 'NOUN', 'VERB', 'VERB', 'VERB', 'ADP', 'DET', 'ADJ', 'ADJ', 'NOUN', 'ADP', 'DET', 'ADJ', 'NOUN', '.', 'ADP', 'ADJ', 'NOUN', '.', 'CONJ', 'ADP', 'DET', '<MISSING>', 'ADP', 'ADJ', 'ADJ', '.', 'ADJ', '.', 'CONJ', 'ADJ', 'NOUN', 'ADP', 'ADV', 'NOUN', '.']\n",
      "\n",
      "Actual labels:\n",
      "--------------\n",
      "('DET', 'ADJ', 'NOUN', 'VERB', 'VERB', 'VERB', 'ADP', 'DET', 'ADJ', 'ADJ', 'NOUN', 'ADP', 'DET', 'ADJ', 'NOUN', '.', 'ADP', 'ADJ', 'NOUN', '.', 'CONJ', 'ADP', 'DET', 'NOUN', 'ADP', 'ADJ', 'ADJ', '.', 'ADJ', '.', 'CONJ', 'ADJ', 'NOUN', 'ADP', 'ADJ', 'NOUN', '.')\n",
      "\n",
      "\n"
     ]
    }
   ],
   "source": [
    "for key in data.testing_set.keys[:3]:\n",
    "    print(\"Sentence Key: {}\\n\".format(key))\n",
    "    print()\n",
    "    print(\"Actual words:\\n--------------\")\n",
    "    print(data.sentences[key].words)\n",
    "    print()\n",
    "    print(\"Predicted labels:\\n-----------------\")\n",
    "    print(simplify_decoding(data.sentences[key].words, mfc_model))\n",
    "    print()\n",
    "    print(\"Actual labels:\\n--------------\")\n",
    "    print(data.sentences[key].tags)\n",
    "    print(\"\\n\")"
   ]
  },
  {
   "cell_type": "markdown",
   "metadata": {},
   "source": [
    "### Evaluating Model Accuracy\n",
    "\n",
    "The function below will evaluate the accuracy of the MFC tagger on the collection of all sentences from a text corpus. "
   ]
  },
  {
   "cell_type": "code",
   "execution_count": 97,
   "metadata": {},
   "outputs": [],
   "source": [
    "def accuracy(X, Y, model):\n",
    "    \"\"\"Calculate the prediction accuracy by using the model to decode each sequence\n",
    "    in the input X and comparing the prediction with the true labels in Y.\n",
    "    \n",
    "    The X should be an array whose first dimension is the number of sentences to test,\n",
    "    and each element of the array should be an iterable of the words in the sequence.\n",
    "    The arrays X and Y should have the exact same shape.\n",
    "    \n",
    "    X = [(\"See\", \"Spot\", \"run\"), (\"Run\", \"Spot\", \"run\", \"fast\"), ...]\n",
    "    Y = [(), (), ...]\n",
    "    \"\"\"\n",
    "    correct = total_predictions = 0\n",
    "    for observations, actual_tags in zip(X, Y):\n",
    "        \n",
    "        # The model.viterbi call in simplify_decoding will return None if the HMM\n",
    "        # raises an error (for example, if a test sentence contains a word that\n",
    "        # is out of vocabulary for the training set). Any exception counts the\n",
    "        # full sentence as an error (which makes this a conservative estimate).\n",
    "        try:\n",
    "            most_likely_tags = simplify_decoding(observations, model)\n",
    "            correct += sum(p == t for p, t in zip(most_likely_tags, actual_tags))\n",
    "        except:\n",
    "            pass\n",
    "        total_predictions += len(observations)\n",
    "    return correct / total_predictions"
   ]
  },
  {
   "cell_type": "markdown",
   "metadata": {},
   "source": [
    "#### Evaluate the accuracy of the MFC tagger\n",
    "Run the next cell to evaluate the accuracy of the tagger on the training and test corpus."
   ]
  },
  {
   "cell_type": "code",
   "execution_count": 98,
   "metadata": {},
   "outputs": [
    {
     "name": "stdout",
     "output_type": "stream",
     "text": [
      "training accuracy mfc_model: 95.72%\n",
      "testing accuracy mfc_model: 93.01%\n"
     ]
    },
    {
     "data": {
      "text/html": [
       "<div class=\"alert alert-block alert-success\">Your MFC tagger accuracy looks correct!</div>"
      ],
      "text/plain": [
       "<IPython.core.display.HTML object>"
      ]
     },
     "execution_count": 98,
     "metadata": {},
     "output_type": "execute_result"
    }
   ],
   "source": [
    "mfc_training_acc = accuracy(data.training_set.X, data.training_set.Y, mfc_model)\n",
    "print(\"training accuracy mfc_model: {:.2f}%\".format(100 * mfc_training_acc))\n",
    "\n",
    "mfc_testing_acc = accuracy(data.testing_set.X, data.testing_set.Y, mfc_model)\n",
    "print(\"testing accuracy mfc_model: {:.2f}%\".format(100 * mfc_testing_acc))\n",
    "\n",
    "assert mfc_training_acc >= 0.955, \"Uh oh. Your MFC accuracy on the training set doesn't look right.\"\n",
    "assert mfc_testing_acc >= 0.925, \"Uh oh. Your MFC accuracy on the testing set doesn't look right.\"\n",
    "HTML('<div class=\"alert alert-block alert-success\">Your MFC tagger accuracy looks correct!</div>')"
   ]
  },
  {
   "cell_type": "markdown",
   "metadata": {},
   "source": [
    "## Step 3: Build an HMM tagger\n",
    "---\n",
    "The HMM tagger has one hidden state for each possible tag, and parameterized by two distributions: the emission probabilties giving the conditional probability of observing a given **word** from each hidden state, and the transition probabilities giving the conditional probability of moving between **tags** during the sequence.\n",
    "\n",
    "We will also estimate the starting probability distribution (the probability of each **tag** being the first tag in a sequence), and the terminal probability distribution (the probability of each **tag** being the last tag in a sequence).\n",
    "\n",
    "The maximum likelihood estimate of these distributions can be calculated from the frequency counts as described in the following sections where you'll implement functions to count the frequencies, and finally build the model. The HMM model will make predictions according to the formula:\n",
    "\n",
    "$$t_i^n = \\underset{t_i^n}{\\mathrm{argmax}} \\prod_{i=1}^n P(w_i|t_i) P(t_i|t_{i-1})$$\n",
    "\n",
    "Refer to Speech & Language Processing [Chapter 10](https://web.stanford.edu/~jurafsky/slp3/10.pdf) for more information."
   ]
  },
  {
   "cell_type": "markdown",
   "metadata": {},
   "source": [
    "### IMPLEMENTATION: Unigram Counts\n",
    "\n",
    "Complete the function below to estimate the co-occurrence frequency of each symbol over all of the input sequences. The unigram probabilities in our HMM model are estimated from the formula below, where N is the total number of samples in the input. (You only need to compute the counts for now.)\n",
    "\n",
    "$$P(tag_1) = \\frac{C(tag_1)}{N}$$"
   ]
  },
  {
   "cell_type": "code",
   "execution_count": 99,
   "metadata": {},
   "outputs": [
    {
     "data": {
      "text/html": [
       "<div class=\"alert alert-block alert-success\">Your tag unigrams look good!</div>"
      ],
      "text/plain": [
       "<IPython.core.display.HTML object>"
      ]
     },
     "execution_count": 99,
     "metadata": {},
     "output_type": "execute_result"
    }
   ],
   "source": [
    "def unigram_counts(sequences):\n",
    "    \"\"\"Return a dictionary keyed to each unique value in the input sequence list that\n",
    "    counts the number of occurrences of the value in the sequences list. The sequences\n",
    "    collection should be a 2-dimensional array.\n",
    "    \n",
    "    For example, if the tag NOUN appears 275558 times over all the input sequences,\n",
    "    then you should return a dictionary such that your_unigram_counts[NOUN] == 275558.\n",
    "    \"\"\"\n",
    "    # TODO: Finish this function!\n",
    "    \n",
    "    # flatten 2d to 1d, for better access\n",
    "    tags = [t for s in sequences for t in s]\n",
    "    \n",
    "    # list of unique tags for dict keys\n",
    "    utags = set(tags)\n",
    "        \n",
    "    # tags occurance count dictionary\n",
    "    unigram_counts_dict = dict()\n",
    "    \n",
    "    # count each unique tag in all tags list\n",
    "    for ut in utags:\n",
    "        unigram_counts_dict[ut] = tags.count(ut)\n",
    "    \n",
    "    return unigram_counts_dict\n",
    "    \n",
    "\n",
    "# TODO: call unigram_counts with a list of tag sequences from the training set\n",
    "subset_tags = data.training_set.Y #[:1000]\n",
    "tag_unigrams = unigram_counts(subset_tags)\n",
    "\n",
    "assert set(tag_unigrams.keys()) == data.training_set.tagset, \\\n",
    "       \"Uh oh. It looks like your tag counts doesn't include all the tags!\"\n",
    "assert min(tag_unigrams, key=tag_unigrams.get) == 'X', \\\n",
    "       \"Hmmm...'X' is expected to be the least common class\"\n",
    "assert max(tag_unigrams, key=tag_unigrams.get) == 'NOUN', \\\n",
    "       \"Hmmm...'NOUN' is expected to be the most common class\"\n",
    "HTML('<div class=\"alert alert-block alert-success\">Your tag unigrams look good!</div>')"
   ]
  },
  {
   "cell_type": "markdown",
   "metadata": {},
   "source": [
    "### IMPLEMENTATION: Bigram Counts\n",
    "\n",
    "Complete the function below to estimate the co-occurrence frequency of each pair of symbols in each of the input sequences. These counts are used in the HMM model to estimate the bigram probability of two tags from the frequency counts according to the formula: $$P(tag_2|tag_1) = \\frac{C(tag_2|tag_1)}{C(tag_2)}$$\n"
   ]
  },
  {
   "cell_type": "code",
   "execution_count": 100,
   "metadata": {},
   "outputs": [
    {
     "data": {
      "text/html": [
       "<div class=\"alert alert-block alert-success\">Your tag bigrams look good!</div>"
      ],
      "text/plain": [
       "<IPython.core.display.HTML object>"
      ]
     },
     "execution_count": 100,
     "metadata": {},
     "output_type": "execute_result"
    }
   ],
   "source": [
    "def bigram_counts(sequences):\n",
    "    \"\"\"Return a dictionary keyed to each unique PAIR of values in the input sequences\n",
    "    list that counts the number of occurrences of pair in the sequences list. The input\n",
    "    should be a 2-dimensional array.\n",
    "    \n",
    "    For example, if the pair of tags (NOUN, VERB) appear 61582 times, then you should\n",
    "    return a dictionary such that your_bigram_counts[(NOUN, VERB)] == 61582\n",
    "    \"\"\"\n",
    "\n",
    "    # TODO: Finish this function!\n",
    "    \n",
    "    # The original pesudo code, later logic idea changed:\n",
    "    # make a copy of the tags\n",
    "    # shift copy index -1\n",
    "    # create pair list, by zip both original and copied list\n",
    "    # get unique pair list by set()\n",
    "    # create dict for return result\n",
    "    # loop unique pair list\n",
    "    # count occurance of each unique pair in pair list\n",
    "    \n",
    "    ###\n",
    "    # flatten 2d to 1d, for better access\n",
    "    # tags = [t for s in sequences for t in s]\n",
    "\n",
    "    # zip/pair with next index shift, (i, i+1), skip last index as no next index\n",
    "    # start index pair = (None, tag) - not incuded\n",
    "    # end index pair   = (tag, None) - skipped by last index - 1\n",
    "    # pairs = [ (tags[i], tags[i+1]) for i, t in enumerate(tags) if i < (len(tags) - 1) ] \n",
    "\n",
    "    # print ('len(pairs)=', len(pairs)) #928457\n",
    "    \n",
    "    ###\n",
    "    # fix potential problem from my own logic\n",
    "    # 'sentence end tag' pairing with 'next sentence start tag'\n",
    "    pairs = []\n",
    "    for seq in sequences:\n",
    "        next_seq_tag_pairs = [ (seq[i], seq[i+1]) for i, t in enumerate(seq) if i < (len(seq) - 1) ]\n",
    "        pairs.extend(next_seq_tag_pairs)\n",
    "        \n",
    "    # print ('len(pairs)=', len(pairs)) #882586\n",
    "    # yes it does reduce and correct tge incorrect tags\n",
    "    # but this only increased the accuracy by just 0.01%, not enough, problem elsewhere\n",
    "        \n",
    "#         for i, tag in enumerate(seq):\n",
    "#             if i < len(seq)-1):\n",
    "#                 next_pair = seq[i], seq[i+1]\n",
    "#                 pairs.append(next_pair)\n",
    "    \n",
    "    ###\n",
    "    # check result data, first and last index\n",
    "    #     print (pairs[0])\n",
    "    #     print('-----')\n",
    "    #     print (pairs[-1])\n",
    "    #     print('-----')\n",
    "    \n",
    "    ###\n",
    "    # list of unique pairs for dict keys\n",
    "    upairs = set(pairs)\n",
    "        \n",
    "    # tags occurance count dictionary\n",
    "    bigram_counts_dict = dict()\n",
    "    \n",
    "    # count each unique pairs in all pairs list\n",
    "    for ut in upairs:\n",
    "        bigram_counts_dict[ut] = pairs.count(ut)\n",
    "\n",
    "    # check result data\n",
    "    # print (bigram_counts_dict)\n",
    "    # print('-----')\n",
    "\n",
    "    return bigram_counts_dict\n",
    "    \n",
    "\n",
    "# TODO: call bigram_counts with a list of tag sequences from the training set\n",
    "subset_tags = data.training_set.Y #[:1000]\n",
    "tag_bigrams = bigram_counts(subset_tags)\n",
    "\n",
    "assert len(tag_bigrams) == 144, \\\n",
    "       \"Uh oh. There should be 144 pairs of bigrams (12 tags x 12 tags)\"\n",
    "assert min(tag_bigrams, key=tag_bigrams.get) in [('X', 'NUM'), ('PRON', 'X')], \\\n",
    "       \"Hmmm...The least common bigram should be one of ('X', 'NUM') or ('PRON', 'X').\"\n",
    "assert max(tag_bigrams, key=tag_bigrams.get) in [('DET', 'NOUN')], \\\n",
    "       \"Hmmm...('DET', 'NOUN') is expected to be the most common bigram.\"\n",
    "HTML('<div class=\"alert alert-block alert-success\">Your tag bigrams look good!</div>')"
   ]
  },
  {
   "cell_type": "code",
   "execution_count": 101,
   "metadata": {},
   "outputs": [
    {
     "name": "stdout",
     "output_type": "stream",
     "text": [
      "0 ('ADV', 'PRON') 2136\n",
      "1 ('PRON', 'CONJ') 455\n",
      "2 ('PRON', 'PRON') 318\n",
      "3 ('ADP', 'DET') 52841\n",
      "4 ('CONJ', 'PRON') 2058\n",
      "5 ('ADV', 'CONJ') 789\n",
      "6 ('VERB', '.') 11699\n"
     ]
    }
   ],
   "source": [
    "# check result in tag_bigrams\n",
    "for i, v in enumerate(tag_bigrams):\n",
    "    print (i, v, tag_bigrams[v])\n",
    "    if i > 5:\n",
    "       break\n"
   ]
  },
  {
   "cell_type": "markdown",
   "metadata": {},
   "source": [
    "### IMPLEMENTATION: Sequence Starting Counts\n",
    "Complete the code below to estimate the bigram probabilities of a sequence starting with each tag."
   ]
  },
  {
   "cell_type": "code",
   "execution_count": 102,
   "metadata": {
    "scrolled": false
   },
   "outputs": [
    {
     "data": {
      "text/html": [
       "<div class=\"alert alert-block alert-success\">Your starting tag counts look good!</div>"
      ],
      "text/plain": [
       "<IPython.core.display.HTML object>"
      ]
     },
     "execution_count": 102,
     "metadata": {},
     "output_type": "execute_result"
    }
   ],
   "source": [
    "def starting_counts(sequences):\n",
    "    \"\"\"Return a dictionary keyed to each unique value in the input sequences list\n",
    "    that counts the number of occurrences where that value is at the beginning of\n",
    "    a sequence.\n",
    "    \n",
    "    For example, if 8093 sequences start with NOUN, then you should return a\n",
    "    dictionary such that your_starting_counts[NOUN] == 8093\n",
    "    \"\"\"\n",
    "    # TODO: Finish this function!\n",
    "        \n",
    "    # get first word of each sequence\n",
    "    start_tags = [s[0] for s in sequences]\n",
    "        \n",
    "    # list of unique start_tags for dict keys\n",
    "    ustart_tags = set(start_tags)\n",
    "        \n",
    "    # start tags occurance count dictionary\n",
    "    start_tags_counts_dict = dict()\n",
    "    \n",
    "    # count each unique start tag in all start_tags list\n",
    "    for ust in ustart_tags:\n",
    "        start_tags_counts_dict[ust] = start_tags.count(ust)\n",
    "\n",
    "    # check result data\n",
    "    # print (start_tags_counts_dict)\n",
    "    # print('-----')\n",
    "\n",
    "    return start_tags_counts_dict\n",
    "\n",
    "# TODO: Calculate the count of each tag starting a sequence\n",
    "subset_tags = data.training_set.Y #[:1000]\n",
    "tag_starts = starting_counts(subset_tags)\n",
    "\n",
    "assert len(tag_starts) == 12, \"Uh oh. There should be 12 tags in your dictionary.\"\n",
    "assert min(tag_starts, key=tag_starts.get) == 'X', \"Hmmm...'X' is expected to be the least common starting bigram.\"\n",
    "assert max(tag_starts, key=tag_starts.get) == 'DET', \"Hmmm...'DET' is expected to be the most common starting bigram.\"\n",
    "HTML('<div class=\"alert alert-block alert-success\">Your starting tag counts look good!</div>')"
   ]
  },
  {
   "cell_type": "code",
   "execution_count": 103,
   "metadata": {},
   "outputs": [
    {
     "name": "stdout",
     "output_type": "stream",
     "text": [
      "index 0 is ADP\n",
      "index 1 is PRON\n",
      "ADP count 5583\n",
      "X count 25\n",
      "count of each start tag =  dict_values([5583, 7318, 2282, 1582, 9763, 25, 2080, 760, 4185, 1718, 4107, 6469])\n",
      "count of all start tags =  45872\n"
     ]
    }
   ],
   "source": [
    "# test - explore result data in tag_starts\n",
    "\n",
    "# view what tag in chosen index\n",
    "print ('index 0 is', list(tag_starts)[0]) # 'ADP'\n",
    "print ('index 1 is', list(tag_starts)[1]) # 'X'\n",
    "\n",
    "# view count of some tags\n",
    "print ('ADP count', tag_starts['ADP']) # 5583\n",
    "print ('X count', tag_starts['X']) # 25\n",
    "\n",
    "# all dict values\n",
    "print ('count of each start tag = ', tag_starts.values())\n",
    "\n",
    "# sum all values, need later in building hmm tagger\n",
    "print ('count of all start tags = ', sum(tag_starts.values()))\n"
   ]
  },
  {
   "cell_type": "markdown",
   "metadata": {},
   "source": [
    "### IMPLEMENTATION: Sequence Ending Counts\n",
    "Complete the function below to estimate the bigram probabilities of a sequence ending with each tag."
   ]
  },
  {
   "cell_type": "code",
   "execution_count": 104,
   "metadata": {},
   "outputs": [
    {
     "data": {
      "text/html": [
       "<div class=\"alert alert-block alert-success\">Your ending tag counts look good!</div>"
      ],
      "text/plain": [
       "<IPython.core.display.HTML object>"
      ]
     },
     "execution_count": 104,
     "metadata": {},
     "output_type": "execute_result"
    }
   ],
   "source": [
    "def ending_counts(sequences):\n",
    "    \"\"\"Return a dictionary keyed to each unique value in the input sequences list\n",
    "    that counts the number of occurrences where that value is at the end of\n",
    "    a sequence.\n",
    "    \n",
    "    For example, if 18 sequences end with DET, then you should return a\n",
    "    dictionary such that your_starting_counts[DET] == 18\n",
    "    \"\"\"\n",
    "    # TODO: Finish this function!\n",
    "    \n",
    "    # the code is almost the same as starting_counts()\n",
    "    # index used is now -1 instead of 0\n",
    "    \n",
    "    # get last word of each sequence\n",
    "    end_tags = [s[-1] for s in sequences]\n",
    "        \n",
    "    # list of unique end_tags for dict keys\n",
    "    uend_tags = set(end_tags)\n",
    "        \n",
    "    # end tags occurance count dictionary\n",
    "    end_tags_counts_dict = dict()\n",
    "    \n",
    "    # count each unique end tag in all end_tags list\n",
    "    for uet in uend_tags:\n",
    "        end_tags_counts_dict[uet] = end_tags.count(uet)\n",
    "\n",
    "    return end_tags_counts_dict\n",
    "\n",
    "# TODO: Calculate the count of each tag ending a sequence\n",
    "subset_tags = data.training_set.Y #[:1000]\n",
    "tag_ends = ending_counts(subset_tags)\n",
    "\n",
    "assert len(tag_ends) == 12, \"Uh oh. There should be 12 tags in your dictionary.\"\n",
    "assert min(tag_ends, key=tag_ends.get) in ['X', 'CONJ'], \"Hmmm...'X' or 'CONJ' should be the least common ending bigram.\"\n",
    "assert max(tag_ends, key=tag_ends.get) == '.', \"Hmmm...'.' is expected to be the most common ending bigram.\"\n",
    "HTML('<div class=\"alert alert-block alert-success\">Your ending tag counts look good!</div>')"
   ]
  },
  {
   "cell_type": "markdown",
   "metadata": {},
   "source": [
    "### IMPLEMENTATION: Basic HMM Tagger\n",
    "Use the tag unigrams and bigrams calculated above to construct a hidden Markov tagger.\n",
    "\n",
    "- Add one state per tag\n",
    "    - The emission distribution at each state should be estimated with the formula: $P(w|t) = \\frac{C(t, w)}{C(t)}$\n",
    "- Add an edge from the starting state `basic_model.start` to each tag\n",
    "    - The transition probability should be estimated with the formula: $P(t|start) = \\frac{C(start, t)}{C(start)}$\n",
    "- Add an edge from each tag to the end state `basic_model.end`\n",
    "    - The transition probability should be estimated with the formula: $P(end|t) = \\frac{C(t, end)}{C(t)}$\n",
    "- Add an edge between _every_ pair of tags\n",
    "    - The transition probability should be estimated with the formula: $P(t_2|t_1) = \\frac{C(t_1, t_2)}{C(t_1)}$"
   ]
  },
  {
   "cell_type": "code",
   "execution_count": 108,
   "metadata": {},
   "outputs": [
    {
     "data": {
      "text/html": [
       "<div class=\"alert alert-block alert-success\">Your HMM network topology looks good!</div>"
      ],
      "text/plain": [
       "<IPython.core.display.HTML object>"
      ]
     },
     "execution_count": 108,
     "metadata": {},
     "output_type": "execute_result"
    }
   ],
   "source": [
    "basic_model = HiddenMarkovModel(name=\"base-hmm-tagger\")\n",
    "\n",
    "# TODO: create states with emission probability distributions P(word | tag) and add to the model\n",
    "# (Hint: you may need to loop & create/add new states)\n",
    "\n",
    "#####\n",
    "# Analysis:\n",
    "# ideas / logic for states:\n",
    "#   loop unique tags\n",
    "#   for each tag, calculate the probability of being each word, for all words\n",
    "#   use warmup optional notebook code to get DiscreteDistribution and State objects\n",
    "#   add to model states list\n",
    "\n",
    "#####\n",
    "# flat function\n",
    "# def flat(sequences):\n",
    "#     return [w for s in sequences for w in s]\n",
    "\n",
    "#####\n",
    "# variables\n",
    "# utags = set(flat(data.training_set.Y)) # Y flatten\n",
    "utags = data.tagset # provided property/function to achieve the same\n",
    "\n",
    "# uwords = set(flat(data.training_set.X)) # X flatten\n",
    "uwords = data.vocab # provided property/function to achieve the same\n",
    "\n",
    "# total_no_of_tags = len(data.training_set.Y)\n",
    "total_no_of_tags = data.N      # provided property/function to achieve the same\n",
    "\n",
    "# quick tets smaller subset\n",
    "# subset_tags = data.training_set.Y #[:200]\n",
    "# subset_words = data.training_set.X #[:200]\n",
    "# emission_counts = pair_counts(subset_tags, subset_words)\n",
    "\n",
    "# emission_counts = word_counts\n",
    "\n",
    "#####\n",
    "# test returning the dictionary on the required format\n",
    "# import numpy as np\n",
    "# numbers = np.arange(10)\n",
    "# result_list = {n: n**2 for n in numbers}\n",
    "# print (result_list)\n",
    "# return\n",
    "\n",
    "#####\n",
    "# Analysis of tag -> word probabilities\n",
    "# each tag (state) have a list of probability of being a particular word, for all words\n",
    "# tag is the state here\n",
    "# words is the possible value of the state (tag)\n",
    "def tag_is_words_probs(tag):\n",
    "    # Analysis:\n",
    "    # 1. example format on what to return: \n",
    "    #    tag = 'NOUN', return {\"the\": 0.012, \"this\": 0.009, \"glass\": 0.180}\n",
    "    # 2. formula:\n",
    "    #    P(w|t) = C(t, w) / C(t)\n",
    "    #    C(t, w) by pair_counts(), use keys (tag, word) to get count value\n",
    "    #    C(t) count of total number of tags\n",
    "    # 3. pseudo code (kind of):\n",
    "    # for tag 'NOUN'\n",
    "    # list[w: prob]  = car: number of times the noun is car / number of tags, for all unique words  \n",
    "    #                = car: emission_counts[NOUN][car] / number of tags, for all unique words\n",
    "\n",
    "    # notice: we are using number of all tags, not unique tags. As probability depend on checking occurances of all data \n",
    "    \n",
    "    # test simple / debug an issue\n",
    "    # state_probs_list = {word: 1 for word in uwords} \n",
    "\n",
    "    # real deal\n",
    "    # if statement at the end of [] checks if the word exist in tag-word pairs first, e.g. water will prob not ever be a verb\n",
    "    # wrong denominator - total_no_of_tags\n",
    "    # tag_is_words_probs_list = {word: (emission_counts[tag][word] / total_no_of_tags) for word in uwords if word in emission_counts[tag]}\n",
    "    # use denominator - tag_unigrams[tag]\n",
    "    tag_is_words_probs_list = {word: (emission_counts[tag][word] / tag_unigrams[tag]) for word in uwords if word in emission_counts[tag]}\n",
    "\n",
    "    # check if all probability sum to 1 (100%), but is it 100% on the level above but no here? need more understanding!\n",
    "    # loop dict, add up values\n",
    "#     total_prob_value = 0\n",
    "#     for k, v in state_probs_list.items():\n",
    "#         total_prob_value += v\n",
    "        \n",
    "#     print ('total_prob_value=', total_prob_value)\n",
    "    \n",
    "    return tag_is_words_probs_list\n",
    "    \n",
    "######################## \n",
    "# emission probabilities\n",
    "#   for each tag of all unique tag, get the tag is each words probabilities, for all words\n",
    "# create state object, add state to model\n",
    "# also store the states for later use in add transition (tag to tag) to model\n",
    "\n",
    "tag_state_list = dict()\n",
    "\n",
    "# for tag in list(utags)[:1]: # quick test\n",
    "for tag in utags: # real deal\n",
    "    # example what to return, from warm up optional notebook: {\"yes\": 0.1, \"no\": 0.9}\n",
    "    emission_probabilities = tag_is_words_probs(tag)\n",
    "  \n",
    "    # print (emission_probabilities)\n",
    "\n",
    "    tag_is_word_emissions = DiscreteDistribution(emission_probabilities)\n",
    "    tag_is_word_state = State(tag_is_word_emissions, name=tag)\n",
    "\n",
    "    basic_model.add_states(tag_is_word_state)\n",
    "    \n",
    "    tag_state_list[tag] = tag_is_word_state\n",
    "\n",
    "####################################################################\n",
    "# TODO: add edges between states for the observed transition frequencies P(tag_i | tag_i-1)\n",
    "# (Hint: you may need to loop & add transitions\n",
    "\n",
    "###########################\n",
    "# next\n",
    "# 1. none -> start_tag prob\n",
    "# 2. tag -> end_tag prob\n",
    "# 3. tag -> tag prob\n",
    "# 4. transitions\n",
    "\n",
    "# use lists created in previous code cells\n",
    "#   tag_unigrams is single tag count list, e.g. list[tag] = 100\n",
    "#   tag_bigrams is tag to tag count list, e.g. list[tag][tag] = 100\n",
    "#   tag_starts is first tag count list, e.g. list[start_tag] = 100\n",
    "#   tag_ends is end tag count list, e.g. list[end_tag] = 100\n",
    "\n",
    "# observation probabilities, at the very first state - tag\n",
    "# like the first day of the week monday, prob of being sunny\n",
    "def tag_is_start_probs():\n",
    "    # start tag is tag\n",
    "    # P(t|start) = C(start, t) / C(start)\n",
    "    \n",
    "    # wrong denominator, should not be sum of all start tags\n",
    "    # prob of each start tag = count each start tag occurance / sum of occurances of all start tag\n",
    "    # count_start_tags = sum(tag_starts.values()) # sum of all occurances of start tags\n",
    "    # state_is_start_probs_list = {start_tag: (tag_starts[start_tag] / count_start_tags) for start_tag in tag_starts}\n",
    "    \n",
    "    # denominator - should be occurance count of next unique start tag\n",
    "    tag_is_start_probs_list = {tag: (tag_starts[tag] / tag_unigrams[tag]) for tag in tag_starts}\n",
    "#     tag_is_start_probs_list = {start_tag: (tag_starts[start_tag] / len(data.training_set.Y) ) for start_tag in tag_starts}\n",
    "    return tag_is_start_probs_list\n",
    "\n",
    "def tag_is_end_probs():\n",
    "    # end tag is tag\n",
    "    # P(end|t) = C(t, end) / C(t)\n",
    "\n",
    "    # code try but not following the formula provided\n",
    "    # count_end_tags = sum(tag_ends.values()) # sum of all occurances of end tags\n",
    "    # end_is_state_probs_list = {tag: (tag_ends[end_tag] / count_end_tags) for end_tag in tag_ends}\n",
    "    \n",
    "    # if the following works, then i dont really understand the maths, why logic is different to start tags? \n",
    "    # becos start tag have nothing before, so only uses the start tags as denominator?\n",
    "    # and end tags have all possible unique tags before, so uses all uniques as denominator?\n",
    "    \n",
    "    # wrong denominator, should not be number of unique tags\n",
    "    # count_utags = len(utags)\n",
    "    # state_is_end_probs_list = {tag: (tag_ends[tag] / count_utags) for tag in utags}\n",
    "    \n",
    "    # denominator - should be occurance count of next unique tag\n",
    "    # also, only need to loop the end tags, but not all unique tags\n",
    "    tag_is_end_probs_list = {tag: (tag_ends[tag] / tag_unigrams[tag]) for tag in tag_ends}\n",
    "    \n",
    "    return tag_is_end_probs_list\n",
    "\n",
    "def tag_to_tag_probs():\n",
    "    # tag1 -> tag2\n",
    "    #    P(t2|t1) = C(t1, t2) / C(t1)\n",
    "    # example format on what to return:\n",
    "    #    tag = 'NOUN', return {\"NOUN\": 0.300, \"VERB\": 0.450, \"ADJ\": 0.150}\n",
    "    import itertools\n",
    "    tagtag = list(itertools.product(utags, utags))\n",
    "\n",
    "    tag_to_tag_probs_list = {}\n",
    "    for tag1, tag2 in tagtag:\n",
    "        count_tag1 = tag_unigrams[tag1]\n",
    "        \n",
    "        if tag1 not in tag_to_tag_probs_list:\n",
    "            tag_to_tag_probs_list[tag1] = {}\n",
    "        \n",
    "        tag_to_tag_prob = tag_bigrams[(tag1, tag2)] / count_tag1\n",
    "        tag_to_tag_probs_list[tag1][tag2] = tag_to_tag_prob\n",
    "    \n",
    "    return tag_to_tag_probs_list\n",
    "\n",
    "\n",
    "# transition - basic_model.start -> tag \n",
    "none_to_start_tag_probabilities = tag_is_start_probs()\n",
    "for start_tag, prob in none_to_start_tag_probabilities.items():\n",
    "    # retrieve object created earlier in create state is word emission\n",
    "    start_tag_state_obj = tag_state_list[start_tag]\n",
    "    \n",
    "    # add to model\n",
    "    basic_model.add_transition(basic_model.start, start_tag_state_obj, prob)\n",
    "\n",
    "# transition - tag -> basic_model.end\n",
    "tag_to_end_probabilities = tag_is_end_probs()\n",
    "for end_tag, prob in tag_to_end_probabilities.items():\n",
    "    # retrieve object created earlier in create state is word emission\n",
    "    end_tag_state_obj = tag_state_list[end_tag]\n",
    "    \n",
    "    # add to model\n",
    "    basic_model.add_transition(end_tag_state_obj, basic_model.end, prob)\n",
    "\n",
    "# transition - tag -> tag\n",
    "# cross join the unique tags\n",
    "# e.g. [tag1][tag1], [tag1][tag2], [tag1][tag3], [tag1][tag4], [tag1][tag5]\n",
    "#      [tag2][tag1], [tag2][tag2], [tag2][tag3], [tag2][tag4], [tag2][tag5]\n",
    "# import itertools\n",
    "# tagtag = list(itertools.product(utags, utags))\n",
    "\n",
    "tag_to_tag_probabilities = tag_to_tag_probs()\n",
    "for tag1 in state_to_state_tag_probabilities.keys():\n",
    "    for tag2 in tag_to_tag_probabilities[tag1].keys():\n",
    "                \n",
    "        prob = tag_to_tag_probabilities[tag1][tag2]\n",
    "\n",
    "        tag1_state_obj = tag_state_list[tag1]\n",
    "        tag2_state_obj = tag_state_list[tag2]\n",
    "\n",
    "        basic_model.add_transition(tag1_state_obj, tag2_state_obj, prob)\n",
    "\n",
    "\n",
    "####################################################################\n",
    "# NOTE: YOU SHOULD NOT NEED TO MODIFY ANYTHING BELOW THIS LINE\n",
    "# finalize the model\n",
    "basic_model.bake()\n",
    "\n",
    "assert all(tag in set(s.name for s in basic_model.states) for tag in data.training_set.tagset), \\\n",
    "       \"Every state in your network should use the name of the associated tag, which must be one of the training set tags.\"\n",
    "assert basic_model.edge_count() == 168, \\\n",
    "       (\"Your network should have an edge from the start node to each state, one edge between every \" +\n",
    "        \"pair of tags (states), and an edge from each state to the end node.\")\n",
    "HTML('<div class=\"alert alert-block alert-success\">Your HMM network topology looks good!</div>')"
   ]
  },
  {
   "cell_type": "code",
   "execution_count": 109,
   "metadata": {},
   "outputs": [
    {
     "name": "stdout",
     "output_type": "stream",
     "text": [
      "144\n"
     ]
    }
   ],
   "source": [
    "# test - explore basic_model\n",
    "\n",
    "# basic_model.start\n",
    "# {\n",
    "#     \"name\" : \"base-hmm-tagger-start\",\n",
    "#     \"weight\" : 1.0,\n",
    "#     \"distribution\" : null,\n",
    "#     \"class\" : \"State\"\n",
    "# }\n",
    "\n",
    "# basic_model.end\n",
    "# {\n",
    "#     \"name\" : \"base-hmm-tagger-end\",\n",
    "#     \"weight\" : 1.0,\n",
    "#     \"distribution\" : null,\n",
    "#     \"class\" : \"State\"\n",
    "# }\n",
    "\n",
    "# tag_starts.keys()\n",
    "# dict_keys(['ADP', 'X', 'ADJ', '.', 'PRT', 'CONJ', 'ADV', 'NOUN', 'NUM', 'DET', 'VERB', 'PRON'])\n",
    "\n",
    "# dir(basic_model)\n",
    "\n",
    "# basic_model.states\n",
    "# data.tagset\n",
    "\n",
    "import itertools\n",
    "tagtag = list(itertools.product(utags, utags))\n",
    "# print (tagtag)\n",
    "# print (tagtag.count(('ADP', 'ADP')))    \n",
    "# print (len(tagtag)) #144\n",
    "print (len(set(tagtag))) #144\n"
   ]
  },
  {
   "cell_type": "code",
   "execution_count": 110,
   "metadata": {
    "scrolled": true
   },
   "outputs": [
    {
     "name": "stdout",
     "output_type": "stream",
     "text": [
      "training accuracy basic hmm model: 97.49%\n",
      "testing accuracy basic hmm model: 95.87%\n"
     ]
    },
    {
     "data": {
      "text/html": [
       "<div class=\"alert alert-block alert-success\">Your HMM tagger accuracy looks correct! Congratulations, you've finished the project.</div>"
      ],
      "text/plain": [
       "<IPython.core.display.HTML object>"
      ]
     },
     "execution_count": 110,
     "metadata": {},
     "output_type": "execute_result"
    }
   ],
   "source": [
    "hmm_training_acc = accuracy(data.training_set.X, data.training_set.Y, basic_model)\n",
    "print(\"training accuracy basic hmm model: {:.2f}%\".format(100 * hmm_training_acc))\n",
    "\n",
    "hmm_testing_acc = accuracy(data.testing_set.X, data.testing_set.Y, basic_model)\n",
    "print(\"testing accuracy basic hmm model: {:.2f}%\".format(100 * hmm_testing_acc))\n",
    "\n",
    "assert hmm_training_acc > 0.97, \"Uh oh. Your HMM accuracy on the training set doesn't look right.\"\n",
    "# code correction, i think code here met 'hmm_testing_acc' instead\n",
    "# assert hmm_training_acc > 0.955, \"Uh oh. Your HMM accuracy on the training set doesn't look right.\"\n",
    "assert hmm_testing_acc > 0.955, \"Uh oh. Your HMM accuracy on the testing set doesn't look right.\"\n",
    "\n",
    "HTML('<div class=\"alert alert-block alert-success\">Your HMM tagger accuracy looks correct! Congratulations, you\\'ve finished the project.</div>')"
   ]
  },
  {
   "cell_type": "markdown",
   "metadata": {},
   "source": [
    "### Example Decoding Sequences with the HMM Tagger"
   ]
  },
  {
   "cell_type": "code",
   "execution_count": 112,
   "metadata": {},
   "outputs": [
    {
     "name": "stdout",
     "output_type": "stream",
     "text": [
      "Sentence Key: b100-28144\n",
      "\n",
      "Words:\n",
      "-----------------\n",
      "('and', 'August', '15', ',', 'November', '15', ',', 'February', '17', ',', 'and', 'May', '15', ',', '(', 'Cranston', ')', '.')\n",
      "Predicted labels:\n",
      "-----------------\n",
      "['CONJ', 'NOUN', 'NUM', '.', 'NOUN', 'NUM', '.', 'NOUN', 'NUM', '.', 'CONJ', 'NOUN', 'NUM', '.', '.', 'NOUN', '.', '.']\n",
      "\n",
      "Actual labels:\n",
      "--------------\n",
      "('CONJ', 'NOUN', 'NUM', '.', 'NOUN', 'NUM', '.', 'NOUN', 'NUM', '.', 'CONJ', 'NOUN', 'NUM', '.', '.', 'NOUN', '.', '.')\n",
      "\n",
      "\n",
      "Sentence Key: b100-23146\n",
      "\n",
      "Words:\n",
      "-----------------\n",
      "('She', 'had', 'the', 'opportunity', 'that', 'few', 'clever', 'women', 'can', 'resist', ',', 'of', 'showing', 'her', 'superiority', 'in', 'argument', 'over', 'a', 'man', '.')\n",
      "Predicted labels:\n",
      "-----------------\n",
      "['PRON', 'VERB', 'DET', 'NOUN', 'ADP', 'ADJ', 'ADJ', 'NOUN', 'VERB', 'VERB', '.', 'ADP', 'VERB', 'DET', 'NOUN', 'ADP', 'NOUN', 'ADP', 'DET', 'NOUN', '.']\n",
      "\n",
      "Actual labels:\n",
      "--------------\n",
      "('PRON', 'VERB', 'DET', 'NOUN', 'ADP', 'ADJ', 'ADJ', 'NOUN', 'VERB', 'VERB', '.', 'ADP', 'VERB', 'DET', 'NOUN', 'ADP', 'NOUN', 'ADP', 'DET', 'NOUN', '.')\n",
      "\n",
      "\n",
      "Sentence Key: b100-35462\n",
      "\n",
      "Words:\n",
      "-----------------\n",
      "('The', 'same', 'conclusions', 'can', 'be', 'drawn', 'from', 'the', 'other', 'physical', 'evidence', 'of', 'the', 'Dark', 'ages', ',', 'from', 'linguistic', 'distribution', ',', 'and', 'from', 'the', 'survivals', 'of', 'early', 'social', ',', 'political', ',', 'and', 'religious', 'patterns', 'into', 'later', 'ages', '.')\n",
      "Predicted labels:\n",
      "-----------------\n",
      "['DET', 'ADJ', 'NOUN', 'VERB', 'VERB', 'VERB', 'ADP', 'DET', 'ADJ', 'ADJ', 'NOUN', 'ADP', 'DET', 'ADJ', 'NOUN', '.', 'ADP', 'ADJ', 'NOUN', '.', 'CONJ', 'ADP', 'DET', 'NOUN', 'ADP', 'ADJ', 'ADJ', '.', 'ADJ', '.', 'CONJ', 'ADJ', 'NOUN', 'ADP', 'ADJ', 'NOUN', '.']\n",
      "\n",
      "Actual labels:\n",
      "--------------\n",
      "('DET', 'ADJ', 'NOUN', 'VERB', 'VERB', 'VERB', 'ADP', 'DET', 'ADJ', 'ADJ', 'NOUN', 'ADP', 'DET', 'ADJ', 'NOUN', '.', 'ADP', 'ADJ', 'NOUN', '.', 'CONJ', 'ADP', 'DET', 'NOUN', 'ADP', 'ADJ', 'ADJ', '.', 'ADJ', '.', 'CONJ', 'ADJ', 'NOUN', 'ADP', 'ADJ', 'NOUN', '.')\n",
      "\n",
      "\n"
     ]
    }
   ],
   "source": [
    "for key in data.testing_set.keys[:3]:\n",
    "    print(\"Sentence Key: {}\\n\".format(key))\n",
    "    print(\"Words:\\n-----------------\")\n",
    "    print(data.sentences[key].words)\n",
    "    print(\"Predicted labels:\\n-----------------\")\n",
    "    print(simplify_decoding(data.sentences[key].words, basic_model))\n",
    "    print()\n",
    "    print(\"Actual labels:\\n--------------\")\n",
    "    print(data.sentences[key].tags)\n",
    "    print(\"\\n\")"
   ]
  },
  {
   "cell_type": "markdown",
   "metadata": {},
   "source": [
    "\n",
    "## Finishing the project\n",
    "---\n",
    "\n",
    "<div class=\"alert alert-block alert-info\">\n",
    "**Note:** **SAVE YOUR NOTEBOOK**, then run the next cell to generate an HTML copy. You will zip & submit both this file and the HTML copy for review.\n",
    "</div>"
   ]
  },
  {
   "cell_type": "code",
   "execution_count": 31,
   "metadata": {},
   "outputs": [
    {
     "data": {
      "text/plain": [
       "['[NbConvertApp] Converting notebook HMM Tagger.ipynb to html',\n",
       " '[NbConvertApp] Writing 419128 bytes to HMM Tagger.html',\n",
       " '[NbConvertApp] Converting notebook HMM Tagger - Original.ipynb to html',\n",
       " '[NbConvertApp] Writing 327806 bytes to HMM Tagger - Original.html',\n",
       " '[NbConvertApp] Converting notebook HMM warmup (optional).ipynb to html',\n",
       " '[NbConvertApp] Writing 311506 bytes to HMM warmup (optional).html']"
      ]
     },
     "execution_count": 31,
     "metadata": {},
     "output_type": "execute_result"
    }
   ],
   "source": [
    "!!jupyter nbconvert *.ipynb"
   ]
  },
  {
   "cell_type": "markdown",
   "metadata": {},
   "source": [
    "## Step 4: [Optional] Improving model performance\n",
    "---\n",
    "There are additional enhancements that can be incorporated into your tagger that improve performance on larger tagsets where the data sparsity problem is more significant. The data sparsity problem arises because the same amount of data split over more tags means there will be fewer samples in each tag, and there will be more missing data  tags that have zero occurrences in the data. The techniques in this section are optional.\n",
    "\n",
    "- [Laplace Smoothing](https://en.wikipedia.org/wiki/Additive_smoothing) (pseudocounts)\n",
    "    Laplace smoothing is a technique where you add a small, non-zero value to all observed counts to offset for unobserved values.\n",
    "\n",
    "- Backoff Smoothing\n",
    "    Another smoothing technique is to interpolate between n-grams for missing data. This method is more effective than Laplace smoothing at combatting the data sparsity problem. Refer to chapters 4, 9, and 10 of the [Speech & Language Processing](https://web.stanford.edu/~jurafsky/slp3/) book for more information.\n",
    "\n",
    "- Extending to Trigrams\n",
    "    HMM taggers have achieved better than 96% accuracy on this dataset with the full Penn treebank tagset using an architecture described in [this](http://www.coli.uni-saarland.de/~thorsten/publications/Brants-ANLP00.pdf) paper. Altering your HMM to achieve the same performance would require implementing deleted interpolation (described in the paper), incorporating trigram probabilities in your frequency tables, and re-implementing the Viterbi algorithm to consider three consecutive states instead of two.\n",
    "\n",
    "### Obtain the Brown Corpus with a Larger Tagset\n",
    "Run the code below to download a copy of the brown corpus with the full NLTK tagset. You will need to research the available tagset information in the NLTK docs and determine the best way to extract the subset of NLTK tags you want to explore. If you write the following the format specified in Step 1, then you can reload the data using all of the code above for comparison.\n",
    "\n",
    "Refer to [Chapter 5](http://www.nltk.org/book/ch05.html) of the NLTK book for more information on the available tagsets."
   ]
  },
  {
   "cell_type": "code",
   "execution_count": 1,
   "metadata": {},
   "outputs": [
    {
     "name": "stdout",
     "output_type": "stream",
     "text": [
      "[nltk_data] Downloading package brown to /home/fi/nltk_data...\n",
      "[nltk_data]   Unzipping corpora/brown.zip.\n"
     ]
    },
    {
     "data": {
      "text/plain": [
       "[('The', 'AT'),\n",
       " ('Fulton', 'NP-TL'),\n",
       " ('County', 'NN-TL'),\n",
       " ('Grand', 'JJ-TL'),\n",
       " ('Jury', 'NN-TL'),\n",
       " ('said', 'VBD'),\n",
       " ('Friday', 'NR'),\n",
       " ('an', 'AT'),\n",
       " ('investigation', 'NN'),\n",
       " ('of', 'IN'),\n",
       " (\"Atlanta's\", 'NP$'),\n",
       " ('recent', 'JJ'),\n",
       " ('primary', 'NN'),\n",
       " ('election', 'NN'),\n",
       " ('produced', 'VBD'),\n",
       " ('``', '``'),\n",
       " ('no', 'AT'),\n",
       " ('evidence', 'NN'),\n",
       " (\"''\", \"''\"),\n",
       " ('that', 'CS'),\n",
       " ('any', 'DTI'),\n",
       " ('irregularities', 'NNS'),\n",
       " ('took', 'VBD'),\n",
       " ('place', 'NN'),\n",
       " ('.', '.')]"
      ]
     },
     "execution_count": 1,
     "metadata": {},
     "output_type": "execute_result"
    }
   ],
   "source": [
    "import nltk\n",
    "from nltk import pos_tag, word_tokenize\n",
    "from nltk.corpus import brown\n",
    "\n",
    "nltk.download('brown')\n",
    "training_corpus = nltk.corpus.brown\n",
    "training_corpus.tagged_sents()[0]"
   ]
  },
  {
   "cell_type": "code",
   "execution_count": null,
   "metadata": {},
   "outputs": [],
   "source": []
  }
 ],
 "metadata": {
  "kernelspec": {
   "display_name": "Python [default]",
   "language": "python",
   "name": "python3"
  },
  "language_info": {
   "codemirror_mode": {
    "name": "ipython",
    "version": 3
   },
   "file_extension": ".py",
   "mimetype": "text/x-python",
   "name": "python",
   "nbconvert_exporter": "python",
   "pygments_lexer": "ipython3",
   "version": "3.5.4"
  }
 },
 "nbformat": 4,
 "nbformat_minor": 2
}
